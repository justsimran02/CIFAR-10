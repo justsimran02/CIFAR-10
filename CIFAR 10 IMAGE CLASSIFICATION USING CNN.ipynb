{
 "cells": [
  {
   "cell_type": "code",
   "execution_count": null,
   "id": "32ff00b1",
   "metadata": {},
   "outputs": [],
   "source": [
    "import pandas as pd\n",
    "import numpy as np\n",
    "import matplotlib.pyplot as plt\n",
    "import seaborn"
   ]
  },
  {
   "cell_type": "code",
   "execution_count": null,
   "id": "f5143b8b",
   "metadata": {},
   "outputs": [],
   "source": [
    "from keras.datasets import cifar10\n",
    "(X_train, y_train) , (X_test,y_test) = cifar10.load_data()"
   ]
  },
  {
   "cell_type": "code",
   "execution_count": null,
   "id": "0e3eb057",
   "metadata": {},
   "outputs": [],
   "source": [
    "X_train.shape"
   ]
  },
  {
   "cell_type": "code",
   "execution_count": null,
   "id": "1bcee5d6",
   "metadata": {},
   "outputs": [],
   "source": [
    "X_test.shape"
   ]
  },
  {
   "cell_type": "code",
   "execution_count": null,
   "id": "dceb0e3f",
   "metadata": {},
   "outputs": [],
   "source": [
    "y_train.shape"
   ]
  },
  {
   "cell_type": "code",
   "execution_count": null,
   "id": "dfc8de1b",
   "metadata": {},
   "outputs": [],
   "source": [
    "y_test.shape"
   ]
  },
  {
   "cell_type": "code",
   "execution_count": null,
   "id": "fd4ae69c",
   "metadata": {},
   "outputs": [],
   "source": [
    "i = 30000\n",
    "plt.imshow(X_train[i])\n",
    "print(y_train[i])"
   ]
  },
  {
   "cell_type": "code",
   "execution_count": null,
   "id": "cb58cbc4",
   "metadata": {},
   "outputs": [],
   "source": [
    "W_grid = 15\n",
    "L_grid = 15\n",
    "\n",
    "fig, axes = plt.subplots(L_grid,W_grid,figsize = (25,25))\n",
    "axes = axes.ravel() #flatten the matrix basically 15x15=225\n",
    "\n",
    "n_training = len(X_train)\n",
    "\n",
    "for i in np.arange(0,L_grid *W_grid):\n",
    "    index = np.random.randint(0,n_training) #pick a random number\n",
    "    axes[i].imshow(X_train[index])\n",
    "    axes[i].set_title(y_train[index])\n",
    "    axes[i].axis('off')\n",
    "    \n",
    "    plt.subplots_adjust(hspace=0.4) #provide more space between the pictures"
   ]
  },
  {
   "cell_type": "code",
   "execution_count": null,
   "id": "364a1593",
   "metadata": {},
   "outputs": [],
   "source": [
    "n_training"
   ]
  },
  {
   "cell_type": "code",
   "execution_count": null,
   "id": "e891625f",
   "metadata": {},
   "outputs": [],
   "source": [
    "X_train = X_train.astype('float32')\n",
    "X_test = X_test.astype('float32') #converting our data into float format"
   ]
  },
  {
   "cell_type": "code",
   "execution_count": null,
   "id": "adfcf429",
   "metadata": {},
   "outputs": [],
   "source": [
    "number_cat = 10\n"
   ]
  },
  {
   "cell_type": "code",
   "execution_count": null,
   "id": "0b422b1c",
   "metadata": {},
   "outputs": [],
   "source": [
    "y_train"
   ]
  },
  {
   "cell_type": "code",
   "execution_count": null,
   "id": "e3c33aa8",
   "metadata": {},
   "outputs": [],
   "source": [
    "import keras\n",
    "y_train = keras.utils.to_categorical(y_train,number_cat) #converting numbers to binary"
   ]
  },
  {
   "cell_type": "code",
   "execution_count": null,
   "id": "652494a1",
   "metadata": {},
   "outputs": [],
   "source": [
    "y_train"
   ]
  },
  {
   "cell_type": "code",
   "execution_count": null,
   "id": "6caf4293",
   "metadata": {},
   "outputs": [],
   "source": [
    "y_test = keras.utils.to_categorical(y_test,number_cat)"
   ]
  },
  {
   "cell_type": "code",
   "execution_count": null,
   "id": "fdcae136",
   "metadata": {},
   "outputs": [],
   "source": [
    "y_test"
   ]
  },
  {
   "cell_type": "code",
   "execution_count": null,
   "id": "1628f5e9",
   "metadata": {},
   "outputs": [],
   "source": [
    "X_train = X_train/255 #normalize to have it between the range of 0 to 1\n",
    "X_test = X_test/255"
   ]
  },
  {
   "cell_type": "code",
   "execution_count": null,
   "id": "af390c25",
   "metadata": {},
   "outputs": [],
   "source": [
    "X_train"
   ]
  },
  {
   "cell_type": "code",
   "execution_count": null,
   "id": "3a9fd56e",
   "metadata": {},
   "outputs": [],
   "source": [
    "X_train.shape"
   ]
  },
  {
   "cell_type": "code",
   "execution_count": null,
   "id": "8514ff5f",
   "metadata": {},
   "outputs": [],
   "source": [
    "Input_shape = X_train.shape[1:]"
   ]
  },
  {
   "cell_type": "code",
   "execution_count": null,
   "id": "90c908c2",
   "metadata": {},
   "outputs": [],
   "source": [
    "Input_shape #size of the actual input image\n"
   ]
  },
  {
   "cell_type": "code",
   "execution_count": null,
   "id": "3dc8b835",
   "metadata": {},
   "outputs": [],
   "source": [
    "from keras.models import Sequential #keras is a API that sits on top of tensorflow\n",
    "from keras.layers import Conv2D, MaxPooling2D,AveragePooling2D,Dense,Flatten,Dropout\n",
    "from keras.optimizers import Adam\n",
    "from keras.callbacks import TensorBoard"
   ]
  },
  {
   "cell_type": "code",
   "execution_count": null,
   "id": "da6599bc",
   "metadata": {},
   "outputs": [],
   "source": [
    "#Building the model and model training\n",
    "cnn_model = Sequential()\n",
    "cnn_model.add(Conv2D(filters = 32 , kernel_size = (3,3), activation = 'relu',input_shape = Input_shape))\n",
    "cnn_model.add(Conv2D(filters = 32 , kernel_size = (3,3), activation = 'relu'))\n",
    "cnn_model.add(MaxPooling2D(2,2)) #compression\n",
    "cnn_model.add(Dropout(0.3)) #cnn (2layers of convolution)(32),dropping out 30% of neurons\n",
    "\n",
    "cnn_model.add(Conv2D(filters = 64 , kernel_size = (3,3), activation = 'relu'))\n",
    "cnn_model.add(Conv2D(filters = 64 , kernel_size = (3,3), activation = 'relu'))\n",
    "cnn_model.add(MaxPooling2D(2,2))\n",
    "cnn_model.add(Dropout(0.2))#cnn (2layers of convolution)(64),dropping out 20% of neurons\n",
    "\n",
    "cnn_model.add(Flatten())\n",
    "\n",
    "cnn_model.add(Dense(units = 512,activation ='relu'))\n",
    "\n",
    "cnn_model.add(Dense(units = 512,activation ='relu'))#fully connected neural network so we use dense\n",
    "\n",
    "cnn_model.add(Dense(units = 10 , activation = 'softmax'))\n",
    "#output layer , 10 classification class and we dont use relu becuase relu is\n",
    "#relu is more likely to be used for regression,for classification we use softmax that gives us\n",
    "#outputs in 0 and 1"
   ]
  },
  {
   "cell_type": "code",
   "execution_count": null,
   "id": "23975f13",
   "metadata": {},
   "outputs": [],
   "source": [
    "cnn_model.compile(loss='categorical_crossentropy', optimizer=keras.optimizers.RMSprop(lr=0.001), metrics=['accuracy'])\n"
   ]
  },
  {
   "cell_type": "code",
   "execution_count": null,
   "id": "f0b835a4",
   "metadata": {},
   "outputs": [],
   "source": [
    "history = cnn_model.fit(X_train, y_train, batch_size=32, epochs=2, shuffle=True)\n"
   ]
  },
  {
   "cell_type": "code",
   "execution_count": null,
   "id": "436b3ab6",
   "metadata": {},
   "outputs": [],
   "source": [
    "#Evaluate the model\n",
    "evaluation = cnn_model.evaluate(X_test,y_test)\n",
    "print('Test Accuracy: {}'.format(evaluation[1]))"
   ]
  },
  {
   "cell_type": "code",
   "execution_count": null,
   "id": "ea44c3d2",
   "metadata": {},
   "outputs": [],
   "source": [
    "#using the predict method to get my predicted classes\n",
    "predicted_probabilities = cnn_model.predict(X_test)\n",
    "predicted_classes = np.argmax(predicted_probabilities, axis=1)\n",
    "predicted_classes\n"
   ]
  },
  {
   "cell_type": "code",
   "execution_count": null,
   "id": "f6b37290",
   "metadata": {},
   "outputs": [],
   "source": [
    "y_test"
   ]
  },
  {
   "cell_type": "code",
   "execution_count": null,
   "id": "40b00769",
   "metadata": {},
   "outputs": [],
   "source": [
    "y_test = y_test.argmax(1)"
   ]
  },
  {
   "cell_type": "code",
   "execution_count": null,
   "id": "8d2ec305",
   "metadata": {},
   "outputs": [],
   "source": [
    "y_test"
   ]
  },
  {
   "cell_type": "code",
   "execution_count": null,
   "id": "b0c44f2d",
   "metadata": {},
   "outputs": [],
   "source": [
    "#able to visualize the images with their predictions and true labels\n",
    "L = 7\n",
    "W = 7\n",
    "\n",
    "fig, axes = plt.subplots(L, W, figsize=(12, 12))\n",
    "axes = axes.ravel()\n",
    "\n",
    "for i in np.arange(0, L * W):\n",
    "    axes[i].imshow(X_test[i])\n",
    "    axes[i].set_title('Prediction = {}\\n True = {}'.format(predicted_classes[i], y_test[i]))\n",
    "    axes[i].axis('off')\n",
    "    \n",
    "plt.subplots_adjust(wspace = 1)"
   ]
  },
  {
   "cell_type": "code",
   "execution_count": null,
   "id": "f8a6d818",
   "metadata": {},
   "outputs": [],
   "source": [
    "#evaluationg the model using confusion matrix and heatmap which tells us how the model is performing\n",
    "from sklearn.metrics import confusion_matrix\n",
    "import seaborn as sns\n",
    "\n",
    "cm = confusion_matrix(y_test,predicted_classes)\n",
    "cm\n",
    "plt.figure(figsize = (10,10))\n",
    "sns.heatmap(cm,annot = True)"
   ]
  },
  {
   "cell_type": "code",
   "execution_count": null,
   "id": "97137017",
   "metadata": {},
   "outputs": [],
   "source": [
    "#saving the model basically saving the cnn_model because all the intelligence is captured in that\n",
    "import os\n",
    "directory = os.path.join(os.getcwd(),'saved_models')\n",
    "\n",
    "if not os.path.isdir(directory):\n",
    "    os.makedirs(directory)\n",
    "    \n",
    "model_path = os.path.join(directory, 'keras_cifar10_trained_model.h5')\n",
    "cnn_model.save(model_path)"
   ]
  },
  {
   "cell_type": "code",
   "execution_count": null,
   "id": "5cd3de37",
   "metadata": {},
   "outputs": [],
   "source": [
    "#data augmentation for cifar10 dataset\n",
    "import keras\n",
    "from keras.datasets import cifar10\n",
    "\n",
    "# Load CIFAR-10 dataset\n",
    "(X_train, y_train), (X_test, y_test) = cifar10.load_data()\n"
   ]
  },
  {
   "cell_type": "code",
   "execution_count": null,
   "id": "c3c4cc0e",
   "metadata": {},
   "outputs": [],
   "source": [
    "X_train = X_train.astype('float32')\n",
    "X_test = X_test.astype('float32')"
   ]
  },
  {
   "cell_type": "code",
   "execution_count": null,
   "id": "4211ff0b",
   "metadata": {},
   "outputs": [],
   "source": [
    "X_train.shape"
   ]
  },
  {
   "cell_type": "code",
   "execution_count": null,
   "id": "b89b5638",
   "metadata": {},
   "outputs": [],
   "source": [
    "n = 8\n",
    "x_train_sample = X_train[:n]"
   ]
  },
  {
   "cell_type": "code",
   "execution_count": null,
   "id": "73db38e7",
   "metadata": {},
   "outputs": [],
   "source": [
    "x_train_sample.shape"
   ]
  },
  {
   "cell_type": "code",
   "execution_count": null,
   "id": "61a95bdd",
   "metadata": {},
   "outputs": [],
   "source": [
    "from keras.preprocessing.image import ImageDataGenerator\n",
    "dataget_train = ImageDataGenerator(rotation_range = 90)\n",
    "dataget_train = ImageDataGenerator(vertical_flip=True)\n",
    "dataget_train = ImageDataGenerator(height_shift_range=0.5)\n",
    "dataget_train = ImageDataGenerator(brightness_range=(1,3))\n",
    "dataget_train.fit(X_train)"
   ]
  },
  {
   "cell_type": "code",
   "execution_count": null,
   "id": "6a1081c7",
   "metadata": {},
   "outputs": [],
   "source": [
    "# Plot the augmented images\n",
    "from PIL import Image\n",
    "fig = plt.figure(figsize=(20, 2))\n",
    "for x_batch in datagen.flow(X_train_sample, batch_size=n):\n",
    "    for i in range(0, n):\n",
    "        ax = fig.add_subplot(1, n, i + 1)\n",
    "        ax.imshow(x_batch[i].astype('uint8'))\n",
    "        ax.axis('off')\n",
    "    fig.suptitle('Augmented images (rotated 90 degrees)', fontsize=16)\n",
    "    plt.show()\n",
    "    break"
   ]
  },
  {
   "cell_type": "code",
   "execution_count": null,
   "id": "31f4b4e8",
   "metadata": {},
   "outputs": [],
   "source": [
    "datagen = ImageDataGenerator(\n",
    "rotation_range = 90,\n",
    "width_shift_range = 0.1,\n",
    "    horizontal_flip = True,\n",
    "    vertical_flip = True\n",
    ")"
   ]
  },
  {
   "cell_type": "code",
   "execution_count": null,
   "id": "66fa7434",
   "metadata": {},
   "outputs": [],
   "source": [
    "datagen.fit(X_train)"
   ]
  },
  {
   "cell_type": "code",
   "execution_count": null,
   "id": "cb0048fc",
   "metadata": {},
   "outputs": [],
   "source": [
    "cnn_model.fit_generator(datagen.flow(X_train , y_train , batch_size = 32),epochs = 2)"
   ]
  },
  {
   "cell_type": "code",
   "execution_count": null,
   "id": "ab472b67",
   "metadata": {},
   "outputs": [],
   "source": [
    "score = cnn_model.evaluate(X_test,y_test)\n",
    "print('Test accuracy',score[1])"
   ]
  },
  {
   "cell_type": "code",
   "execution_count": null,
   "id": "71790f4e",
   "metadata": {},
   "outputs": [],
   "source": [
    "#saving the model basically saving the cnn_model because all the intelligence is captured in that\n",
    "import os\n",
    "directory = os.path.join(os.getcwd(),'saved_models')\n",
    "\n",
    "if not os.path.isdir(directory):\n",
    "    os.makedirs(directory)\n",
    "    \n",
    "model_path = os.path.join(directory, 'keras_cifar10_trained_model_Augmentation.h5')\n",
    "cnn_model.save(model_path)"
   ]
  },
  {
   "cell_type": "code",
   "execution_count": null,
   "id": "a60d3732",
   "metadata": {},
   "outputs": [],
   "source": []
  }
 ],
 "metadata": {
  "kernelspec": {
   "display_name": "Python 3 (ipykernel)",
   "language": "python",
   "name": "python3"
  },
  "language_info": {
   "codemirror_mode": {
    "name": "ipython",
    "version": 3
   },
   "file_extension": ".py",
   "mimetype": "text/x-python",
   "name": "python",
   "nbconvert_exporter": "python",
   "pygments_lexer": "ipython3",
   "version": "3.11.3"
  }
 },
 "nbformat": 4,
 "nbformat_minor": 5
}
